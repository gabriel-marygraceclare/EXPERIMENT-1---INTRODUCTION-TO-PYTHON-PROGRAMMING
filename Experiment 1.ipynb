{
 "cells": [
  {
   "cell_type": "markdown",
   "id": "d7036fe3-69e2-4b8b-8a47-0d1b492c1642",
   "metadata": {},
   "source": [
    "# EXPERIMENT 1 \n",
    "# INTRODUCTION TO PYTHON PROGRAMMING\n",
    "### Name: Gabriel, Mary Grace Clare R.\n",
    "### Section: 2ECE-B\n",
    "### Date: August 26, 2025\n",
    "\n"
   ]
  },
  {
   "cell_type": "markdown",
   "id": "ed0bb04d-5f5a-4793-9103-f89dada8b9d5",
   "metadata": {},
   "source": [
    "## ALPHABETICAL SOUP PROBLEM"
   ]
  },
  {
   "cell_type": "code",
   "execution_count": 74,
   "id": "556e1b24-f759-4feb-a702-ef6f56780bd4",
   "metadata": {},
   "outputs": [
    {
     "name": "stdout",
     "output_type": "stream",
     "text": [
      "ehllo\n",
      "acehkr\n"
     ]
    }
   ],
   "source": [
    "alphabet_soup = list(\"hello\")\n",
    "alphabet_soup.sort()\n",
    "string = \"\"\n",
    "\n",
    "for x in alphabet_soup:\n",
    "    string += x\n",
    "\n",
    "print(string)\n",
    "\n",
    "alphabet_soup = list(\"hacker\")\n",
    "alphabet_soup.sort()\n",
    "string = \"\"\n",
    "\n",
    "for x in alphabet_soup:\n",
    "    string += x\n",
    "\n",
    "print(string)\n"
   ]
  },
  {
   "cell_type": "markdown",
   "id": "02286859-8db9-423f-b9d6-375ff7047fd5",
   "metadata": {},
   "source": [
    "## EMOTICON PROBLEM"
   ]
  },
  {
   "cell_type": "code",
   "execution_count": 63,
   "id": "4210df21-1cae-4cad-aa38-5967fcf85e7f",
   "metadata": {},
   "outputs": [
    {
     "name": "stdout",
     "output_type": "stream",
     "text": [
      "Make me :)\n",
      "You have a :D on your face\n",
      "You look :((\n",
      "I am >:(\n"
     ]
    }
   ],
   "source": [
    "a = \"Make me smile\"\n",
    "b = \"You have a grin on your face\"\n",
    "c = \"You look sad\"\n",
    "d = \"I am mad\"\n",
    "a1 = a.replace(\"smile\", \":)\")\n",
    "a2 = b.replace(\"grin\", \":D\")\n",
    "a3 = c.replace(\"sad\", \":((\")\n",
    "a4 = d.replace(\"mad\", \">:(\")\n",
    "print(a1)\n",
    "print(a2)\n",
    "print(a3)\n",
    "print(a4)\n",
    "\n",
    "\n"
   ]
  },
  {
   "cell_type": "markdown",
   "id": "c9ee546b-8db6-4e4a-ac16-342f661e8800",
   "metadata": {},
   "source": [
    "## UNPACKING LIST PROBLEM"
   ]
  },
  {
   "cell_type": "code",
   "execution_count": 72,
   "id": "37ef0555-d9c5-4c76-bcfd-25efceefdadd",
   "metadata": {},
   "outputs": [
    {
     "name": "stdout",
     "output_type": "stream",
     "text": [
      "first: 1      middle: [2, 3, 4, 5]      last: 6\n"
     ]
    }
   ],
   "source": [
    "numbers = [1, 2, 3, 4, 5, 6]\n",
    "print(\"first:\", numbers[0],\"     \" \"middle:\", numbers[1:5], \"     \" \"last:\", numbers[5])"
   ]
  },
  {
   "cell_type": "code",
   "execution_count": null,
   "id": "76a47d1b-819f-4ee5-9075-49ec9f06a86d",
   "metadata": {},
   "outputs": [],
   "source": []
  }
 ],
 "metadata": {
  "kernelspec": {
   "display_name": "Python 3 (ipykernel)",
   "language": "python",
   "name": "python3"
  },
  "language_info": {
   "codemirror_mode": {
    "name": "ipython",
    "version": 3
   },
   "file_extension": ".py",
   "mimetype": "text/x-python",
   "name": "python",
   "nbconvert_exporter": "python",
   "pygments_lexer": "ipython3",
   "version": "3.13.5"
  }
 },
 "nbformat": 4,
 "nbformat_minor": 5
}
